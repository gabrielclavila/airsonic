{
 "cells": [
  {
   "cell_type": "code",
   "execution_count": 20,
   "id": "67250e7e",
   "metadata": {
    "scrolled": true
   },
   "outputs": [],
   "source": [
    "from math import sqrt\n",
    "from numpy import mean, std\n",
    "from scipy.stats import wilcoxon\n",
    "import matplotlib.pyplot as plt\n",
    "import pandas as pd"
   ]
  },
  {
   "cell_type": "code",
   "execution_count": 21,
   "id": "eb150b7d",
   "metadata": {},
   "outputs": [],
   "source": [
    "df = pd.read_csv('evosuite-report/statistics.csv')\n"
   ]
  },
  {
   "cell_type": "code",
   "execution_count": 22,
   "id": "04dba8d7",
   "metadata": {},
   "outputs": [
    {
     "data": {
      "text/html": [
       "<div>\n",
       "<style scoped>\n",
       "    .dataframe tbody tr th:only-of-type {\n",
       "        vertical-align: middle;\n",
       "    }\n",
       "\n",
       "    .dataframe tbody tr th {\n",
       "        vertical-align: top;\n",
       "    }\n",
       "\n",
       "    .dataframe thead th {\n",
       "        text-align: right;\n",
       "    }\n",
       "</style>\n",
       "<table border=\"1\" class=\"dataframe\">\n",
       "  <thead>\n",
       "    <tr style=\"text-align: right;\">\n",
       "      <th></th>\n",
       "      <th>configuration_id</th>\n",
       "      <th>TARGET_CLASS</th>\n",
       "      <th>criterion</th>\n",
       "      <th>Size</th>\n",
       "      <th>Length</th>\n",
       "      <th>MutationScore</th>\n",
       "    </tr>\n",
       "  </thead>\n",
       "  <tbody>\n",
       "    <tr>\n",
       "      <th>0</th>\n",
       "      <td>Branch</td>\n",
       "      <td>com.sonos.services._1_1.Sonos</td>\n",
       "      <td>BRANCH</td>\n",
       "      <td>6</td>\n",
       "      <td>16</td>\n",
       "      <td>1.000000</td>\n",
       "    </tr>\n",
       "    <tr>\n",
       "      <th>1</th>\n",
       "      <td>Branch</td>\n",
       "      <td>com.sonos.services._1_1.CustomFault</td>\n",
       "      <td>BRANCH</td>\n",
       "      <td>4</td>\n",
       "      <td>8</td>\n",
       "      <td>1.000000</td>\n",
       "    </tr>\n",
       "    <tr>\n",
       "      <th>2</th>\n",
       "      <td>Branch</td>\n",
       "      <td>com.sonos.services._1.ReorderContainer</td>\n",
       "      <td>BRANCH</td>\n",
       "      <td>8</td>\n",
       "      <td>16</td>\n",
       "      <td>0.272727</td>\n",
       "    </tr>\n",
       "    <tr>\n",
       "      <th>3</th>\n",
       "      <td>Branch</td>\n",
       "      <td>com.sonos.services._1.ActionType</td>\n",
       "      <td>BRANCH</td>\n",
       "      <td>3</td>\n",
       "      <td>4</td>\n",
       "      <td>0.615385</td>\n",
       "    </tr>\n",
       "    <tr>\n",
       "      <th>4</th>\n",
       "      <td>Branch</td>\n",
       "      <td>com.sonos.services._1.AppLinkInfo</td>\n",
       "      <td>BRANCH</td>\n",
       "      <td>12</td>\n",
       "      <td>24</td>\n",
       "      <td>0.000000</td>\n",
       "    </tr>\n",
       "    <tr>\n",
       "      <th>...</th>\n",
       "      <td>...</td>\n",
       "      <td>...</td>\n",
       "      <td>...</td>\n",
       "      <td>...</td>\n",
       "      <td>...</td>\n",
       "      <td>...</td>\n",
       "    </tr>\n",
       "    <tr>\n",
       "      <th>363</th>\n",
       "      <td>Default</td>\n",
       "      <td>org.subsonic.restapi.ChatMessages</td>\n",
       "      <td>LINE;BRANCH;EXCEPTION;WEAKMUTATION;OUTPUT;METH...</td>\n",
       "      <td>2</td>\n",
       "      <td>9</td>\n",
       "      <td>1.000000</td>\n",
       "    </tr>\n",
       "    <tr>\n",
       "      <th>364</th>\n",
       "      <td>Default</td>\n",
       "      <td>org.subsonic.restapi.JukeboxPlaylist</td>\n",
       "      <td>LINE;BRANCH;EXCEPTION;WEAKMUTATION;OUTPUT;METH...</td>\n",
       "      <td>2</td>\n",
       "      <td>9</td>\n",
       "      <td>1.000000</td>\n",
       "    </tr>\n",
       "    <tr>\n",
       "      <th>365</th>\n",
       "      <td>Default</td>\n",
       "      <td>org.subsonic.restapi.Artist</td>\n",
       "      <td>LINE;BRANCH;EXCEPTION;WEAKMUTATION;OUTPUT;METH...</td>\n",
       "      <td>16</td>\n",
       "      <td>48</td>\n",
       "      <td>0.888889</td>\n",
       "    </tr>\n",
       "    <tr>\n",
       "      <th>366</th>\n",
       "      <td>Default</td>\n",
       "      <td>org.subsonic.restapi.SimilarSongs2</td>\n",
       "      <td>LINE;BRANCH;EXCEPTION;WEAKMUTATION;OUTPUT;METH...</td>\n",
       "      <td>2</td>\n",
       "      <td>9</td>\n",
       "      <td>1.000000</td>\n",
       "    </tr>\n",
       "    <tr>\n",
       "      <th>367</th>\n",
       "      <td>Default</td>\n",
       "      <td>org.subsonic.restapi.Shares</td>\n",
       "      <td>LINE;BRANCH;EXCEPTION;WEAKMUTATION;OUTPUT;METH...</td>\n",
       "      <td>2</td>\n",
       "      <td>9</td>\n",
       "      <td>1.000000</td>\n",
       "    </tr>\n",
       "  </tbody>\n",
       "</table>\n",
       "<p>368 rows × 6 columns</p>\n",
       "</div>"
      ],
      "text/plain": [
       "    configuration_id                            TARGET_CLASS  \\\n",
       "0             Branch           com.sonos.services._1_1.Sonos   \n",
       "1             Branch     com.sonos.services._1_1.CustomFault   \n",
       "2             Branch  com.sonos.services._1.ReorderContainer   \n",
       "3             Branch        com.sonos.services._1.ActionType   \n",
       "4             Branch       com.sonos.services._1.AppLinkInfo   \n",
       "..               ...                                     ...   \n",
       "363          Default       org.subsonic.restapi.ChatMessages   \n",
       "364          Default    org.subsonic.restapi.JukeboxPlaylist   \n",
       "365          Default             org.subsonic.restapi.Artist   \n",
       "366          Default      org.subsonic.restapi.SimilarSongs2   \n",
       "367          Default             org.subsonic.restapi.Shares   \n",
       "\n",
       "                                             criterion  Size  Length  \\\n",
       "0                                               BRANCH     6      16   \n",
       "1                                               BRANCH     4       8   \n",
       "2                                               BRANCH     8      16   \n",
       "3                                               BRANCH     3       4   \n",
       "4                                               BRANCH    12      24   \n",
       "..                                                 ...   ...     ...   \n",
       "363  LINE;BRANCH;EXCEPTION;WEAKMUTATION;OUTPUT;METH...     2       9   \n",
       "364  LINE;BRANCH;EXCEPTION;WEAKMUTATION;OUTPUT;METH...     2       9   \n",
       "365  LINE;BRANCH;EXCEPTION;WEAKMUTATION;OUTPUT;METH...    16      48   \n",
       "366  LINE;BRANCH;EXCEPTION;WEAKMUTATION;OUTPUT;METH...     2       9   \n",
       "367  LINE;BRANCH;EXCEPTION;WEAKMUTATION;OUTPUT;METH...     2       9   \n",
       "\n",
       "     MutationScore  \n",
       "0         1.000000  \n",
       "1         1.000000  \n",
       "2         0.272727  \n",
       "3         0.615385  \n",
       "4         0.000000  \n",
       "..             ...  \n",
       "363       1.000000  \n",
       "364       1.000000  \n",
       "365       0.888889  \n",
       "366       1.000000  \n",
       "367       1.000000  \n",
       "\n",
       "[368 rows x 6 columns]"
      ]
     },
     "execution_count": 22,
     "metadata": {},
     "output_type": "execute_result"
    }
   ],
   "source": [
    "df"
   ]
  },
  {
   "cell_type": "code",
   "execution_count": 23,
   "id": "1957f4b6",
   "metadata": {},
   "outputs": [
    {
     "data": {
      "image/png": "[encoded data removed]",
      "text/plain": [
       "<Figure size 432x288 with 1 Axes>"
      ]
     },
     "metadata": {
      "needs_background": "light"
     },
     "output_type": "display_data"
    },
    {
     "data": {
      "image/png": "[encoded data removed]",
      "text/plain": [
       "<Figure size 432x288 with 1 Axes>"
      ]
     },
     "metadata": {
      "needs_background": "light"
     },
     "output_type": "display_data"
    },
    {
     "data": {
      "image/png": "[encoded data removed]",
      "text/plain": [
       "<Figure size 432x288 with 1 Axes>"
      ]
     },
     "metadata": {
      "needs_background": "light"
     },
     "output_type": "display_data"
    }
   ],
   "source": [
    "bp = df.boxplot(column='Size', by='configuration_id')\n",
    "bp = df.boxplot(column='Length', by='configuration_id')\n",
    "bp = df.boxplot(column='MutationScore', by='configuration_id')\n",
    "plt.show()"
   ]
  },
  {
   "cell_type": "code",
   "execution_count": 24,
   "id": "065f061d",
   "metadata": {},
   "outputs": [
    {
     "name": "stdout",
     "output_type": "stream",
     "text": [
      "Size: 0.22 (0.000000)\n",
      "Length: 0.39 (0.000000)\n",
      "MutationScore: 1.43 (0.000000)\n"
     ]
    }
   ],
   "source": [
    "def cohen_d(x, y):\n",
    "    return (mean(x) - mean(y)) / sqrt((std(x, ddof=1)**2 + std(y, ddof=1)**2) / 2.0)\n",
    "\n",
    "\n",
    "cat1 = df[df['configuration_id'] == 'Default']\n",
    "cat2 = df[df['configuration_id'] == 'Branch']\n",
    "\n",
    "for column in ['Size', 'Length', 'MutationScore']:\n",
    "    print(\"%s: %.2f (%f)\" % (column, cohen_d(\n",
    "        cat1[column], cat2[column]), wilcoxon(cat1[column], cat2[column]).pvalue))\n"
   ]
  },
  {
   "cell_type": "code",
   "execution_count": 25,
   "id": "240f47be",
   "metadata": {},
   "outputs": [],
   "source": [
    "df2 = pd.read_csv('evosuite-report/statistics_default.csv')"
   ]
  },
  {
   "cell_type": "code",
   "execution_count": 26,
   "id": "2334e394",
   "metadata": {
    "scrolled": true
   },
   "outputs": [
    {
     "data": {
      "text/html": [
       "<div>\n",
       "<style scoped>\n",
       "    .dataframe tbody tr th:only-of-type {\n",
       "        vertical-align: middle;\n",
       "    }\n",
       "\n",
       "    .dataframe tbody tr th {\n",
       "        vertical-align: top;\n",
       "    }\n",
       "\n",
       "    .dataframe thead th {\n",
       "        text-align: right;\n",
       "    }\n",
       "</style>\n",
       "<table border=\"1\" class=\"dataframe\">\n",
       "  <thead>\n",
       "    <tr style=\"text-align: right;\">\n",
       "      <th></th>\n",
       "      <th>TARGET_CLASS</th>\n",
       "      <th>criterion</th>\n",
       "      <th>Coverage</th>\n",
       "      <th>Total_Goals</th>\n",
       "      <th>Covered_Goals</th>\n",
       "    </tr>\n",
       "  </thead>\n",
       "  <tbody>\n",
       "    <tr>\n",
       "      <th>0</th>\n",
       "      <td>org.airsonic.player.io.PlayQueueInputStream</td>\n",
       "      <td>LINE;BRANCH;EXCEPTION;WEAKMUTATION;OUTPUT;METH...</td>\n",
       "      <td>0.692819</td>\n",
       "      <td>254</td>\n",
       "      <td>144</td>\n",
       "    </tr>\n",
       "    <tr>\n",
       "      <th>1</th>\n",
       "      <td>org.airsonic.player.io.ShoutCastOutputStream</td>\n",
       "      <td>LINE;BRANCH;EXCEPTION;WEAKMUTATION;OUTPUT;METH...</td>\n",
       "      <td>0.762413</td>\n",
       "      <td>291</td>\n",
       "      <td>185</td>\n",
       "    </tr>\n",
       "    <tr>\n",
       "      <th>2</th>\n",
       "      <td>org.airsonic.player.io.RangeOutputStream</td>\n",
       "      <td>LINE;BRANCH;EXCEPTION;WEAKMUTATION;OUTPUT;METH...</td>\n",
       "      <td>1.000000</td>\n",
       "      <td>210</td>\n",
       "      <td>210</td>\n",
       "    </tr>\n",
       "    <tr>\n",
       "      <th>3</th>\n",
       "      <td>org.airsonic.player.io.TranscodeInputStream</td>\n",
       "      <td>LINE;BRANCH;EXCEPTION;WEAKMUTATION;OUTPUT;METH...</td>\n",
       "      <td>0.213636</td>\n",
       "      <td>96</td>\n",
       "      <td>16</td>\n",
       "    </tr>\n",
       "    <tr>\n",
       "      <th>4</th>\n",
       "      <td>org.airsonic.player.io.InputStreamReaderThread</td>\n",
       "      <td>LINE;BRANCH;EXCEPTION;WEAKMUTATION;OUTPUT;METH...</td>\n",
       "      <td>0.923077</td>\n",
       "      <td>59</td>\n",
       "      <td>51</td>\n",
       "    </tr>\n",
       "    <tr>\n",
       "      <th>...</th>\n",
       "      <td>...</td>\n",
       "      <td>...</td>\n",
       "      <td>...</td>\n",
       "      <td>...</td>\n",
       "      <td>...</td>\n",
       "    </tr>\n",
       "    <tr>\n",
       "      <th>270</th>\n",
       "      <td>org.subsonic.restapi.ChatMessages</td>\n",
       "      <td>LINE;BRANCH;EXCEPTION;WEAKMUTATION;OUTPUT;METH...</td>\n",
       "      <td>0.937500</td>\n",
       "      <td>21</td>\n",
       "      <td>18</td>\n",
       "    </tr>\n",
       "    <tr>\n",
       "      <th>271</th>\n",
       "      <td>org.subsonic.restapi.JukeboxPlaylist</td>\n",
       "      <td>LINE;BRANCH;EXCEPTION;WEAKMUTATION;OUTPUT;METH...</td>\n",
       "      <td>0.937500</td>\n",
       "      <td>21</td>\n",
       "      <td>18</td>\n",
       "    </tr>\n",
       "    <tr>\n",
       "      <th>272</th>\n",
       "      <td>org.subsonic.restapi.Artist</td>\n",
       "      <td>LINE;BRANCH;EXCEPTION;WEAKMUTATION;OUTPUT;METH...</td>\n",
       "      <td>0.978611</td>\n",
       "      <td>119</td>\n",
       "      <td>115</td>\n",
       "    </tr>\n",
       "    <tr>\n",
       "      <th>273</th>\n",
       "      <td>org.subsonic.restapi.SimilarSongs2</td>\n",
       "      <td>LINE;BRANCH;EXCEPTION;WEAKMUTATION;OUTPUT;METH...</td>\n",
       "      <td>0.937500</td>\n",
       "      <td>21</td>\n",
       "      <td>18</td>\n",
       "    </tr>\n",
       "    <tr>\n",
       "      <th>274</th>\n",
       "      <td>org.subsonic.restapi.Shares</td>\n",
       "      <td>LINE;BRANCH;EXCEPTION;WEAKMUTATION;OUTPUT;METH...</td>\n",
       "      <td>0.937500</td>\n",
       "      <td>21</td>\n",
       "      <td>18</td>\n",
       "    </tr>\n",
       "  </tbody>\n",
       "</table>\n",
       "<p>275 rows × 5 columns</p>\n",
       "</div>"
      ],
      "text/plain": [
       "                                       TARGET_CLASS  \\\n",
       "0       org.airsonic.player.io.PlayQueueInputStream   \n",
       "1      org.airsonic.player.io.ShoutCastOutputStream   \n",
       "2          org.airsonic.player.io.RangeOutputStream   \n",
       "3       org.airsonic.player.io.TranscodeInputStream   \n",
       "4    org.airsonic.player.io.InputStreamReaderThread   \n",
       "..                                              ...   \n",
       "270               org.subsonic.restapi.ChatMessages   \n",
       "271            org.subsonic.restapi.JukeboxPlaylist   \n",
       "272                     org.subsonic.restapi.Artist   \n",
       "273              org.subsonic.restapi.SimilarSongs2   \n",
       "274                     org.subsonic.restapi.Shares   \n",
       "\n",
       "                                             criterion  Coverage  Total_Goals  \\\n",
       "0    LINE;BRANCH;EXCEPTION;WEAKMUTATION;OUTPUT;METH...  0.692819          254   \n",
       "1    LINE;BRANCH;EXCEPTION;WEAKMUTATION;OUTPUT;METH...  0.762413          291   \n",
       "2    LINE;BRANCH;EXCEPTION;WEAKMUTATION;OUTPUT;METH...  1.000000          210   \n",
       "3    LINE;BRANCH;EXCEPTION;WEAKMUTATION;OUTPUT;METH...  0.213636           96   \n",
       "4    LINE;BRANCH;EXCEPTION;WEAKMUTATION;OUTPUT;METH...  0.923077           59   \n",
       "..                                                 ...       ...          ...   \n",
       "270  LINE;BRANCH;EXCEPTION;WEAKMUTATION;OUTPUT;METH...  0.937500           21   \n",
       "271  LINE;BRANCH;EXCEPTION;WEAKMUTATION;OUTPUT;METH...  0.937500           21   \n",
       "272  LINE;BRANCH;EXCEPTION;WEAKMUTATION;OUTPUT;METH...  0.978611          119   \n",
       "273  LINE;BRANCH;EXCEPTION;WEAKMUTATION;OUTPUT;METH...  0.937500           21   \n",
       "274  LINE;BRANCH;EXCEPTION;WEAKMUTATION;OUTPUT;METH...  0.937500           21   \n",
       "\n",
       "     Covered_Goals  \n",
       "0              144  \n",
       "1              185  \n",
       "2              210  \n",
       "3               16  \n",
       "4               51  \n",
       "..             ...  \n",
       "270             18  \n",
       "271             18  \n",
       "272            115  \n",
       "273             18  \n",
       "274             18  \n",
       "\n",
       "[275 rows x 5 columns]"
      ]
     },
     "execution_count": 26,
     "metadata": {},
     "output_type": "execute_result"
    }
   ],
   "source": [
    "df2"
   ]
  },
  {
   "cell_type": "code",
   "execution_count": 27,
   "id": "23d11d00",
   "metadata": {},
   "outputs": [
    {
     "name": "stdout",
     "output_type": "stream",
     "text": [
      "0.9465875224573227\n"
     ]
    }
   ],
   "source": [
    "print(df2['Coverage'].mean())"
   ]
  }
 ],
 "metadata": {
  "kernelspec": {
   "display_name": "Python 3 (ipykernel)",
   "language": "python",
   "name": "python3"
  },
  "language_info": {
   "codemirror_mode": {
    "name": "ipython",
    "version": 3
   },
   "file_extension": ".py",
   "mimetype": "text/x-python",
   "name": "python",
   "nbconvert_exporter": "python",
   "pygments_lexer": "ipython3",
   "version": "3.10.12"
  }
 },
 "nbformat": 4,
 "nbformat_minor": 5
}
